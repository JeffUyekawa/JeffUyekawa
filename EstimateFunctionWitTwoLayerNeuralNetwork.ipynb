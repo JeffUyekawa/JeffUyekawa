{
 "cells": [
  {
   "cell_type": "markdown",
   "id": "3423a604",
   "metadata": {},
   "source": [
    "# Approximation Confirmation Experiment\n",
    "## In this notebook, we aim to confirm experimentally  the following proposition:\n",
    "\n",
    "Proposition 2.1. Suppose $g:\\mathbb{R} \\rightarrow \\mathbb{R}$  is K-Lipschitz. For any $\\epsilon > 0$, there exists a 2-layer network $f$ with $\\lceil \\frac{K}{\\epsilon} \\rceil$ threshold nodes so that $\\sup{x\\in[0,1]}|f(x)-g(x)| < \\epsilon.$\n",
    "\n",
    "\n"
   ]
  },
  {
   "cell_type": "code",
   "execution_count": 272,
   "id": "a63483e4",
   "metadata": {},
   "outputs": [],
   "source": [
    "#Import necessary packages\n",
    "import numpy as np\n",
    "import matplotlib.pyplot as plt\n",
    "import scipy"
   ]
  },
  {
   "cell_type": "code",
   "execution_count": 273,
   "id": "8ef416c0",
   "metadata": {},
   "outputs": [],
   "source": [
    "#Define epsilon, K (determined by funciton g(x) = x^2), and M\n",
    "#Vary value of epsilon and run all\n",
    "epsilon = 0.1\n",
    "K = 2\n",
    "M = int(np.ceil(K/epsilon))"
   ]
  },
  {
   "cell_type": "code",
   "execution_count": 274,
   "id": "136918a4",
   "metadata": {},
   "outputs": [],
   "source": [
    "def g(x):\n",
    "    return x**2"
   ]
  },
  {
   "cell_type": "code",
   "execution_count": 275,
   "id": "aacb0c55",
   "metadata": {},
   "outputs": [],
   "source": [
    "#M evenly spaced nodes in [0,1]\n",
    "b = np.linspace(0,1,M)\n",
    "\n",
    "#Construct matrix to calculate weights a_0 = g(b_0), a_i = g(b_i) - g(b_i-1)\n",
    "diagonals = [[1]*(M),[-1]*(M-1)]\n",
    "A = scipy.sparse.diags(diagonals,[0,-1])\n",
    "\n",
    "a = A@(g(b))"
   ]
  },
  {
   "cell_type": "code",
   "execution_count": 276,
   "id": "665a6067",
   "metadata": {},
   "outputs": [
    {
     "data": {
      "text/plain": [
       "[<matplotlib.lines.Line2D at 0x14b516d3580>,\n",
       " <matplotlib.lines.Line2D at 0x14b516d35e0>]"
      ]
     },
     "execution_count": 276,
     "metadata": {},
     "output_type": "execute_result"
    },
    {
     "data": {
      "image/png": "[encoded data removed]",
      "text/plain": [
       "<Figure size 640x480 with 1 Axes>"
      ]
     },
     "metadata": {},
     "output_type": "display_data"
    }
   ],
   "source": [
    "#Define a function f to sum weights on heaviside function sigma(x-b_i)\n",
    "#Very inefficient with a double for loop. Consider ways to make this section more efficient\n",
    "def f(x,a,b):\n",
    "    h=np.zeros((len(x),M))\n",
    "    for j in range(len(b)):\n",
    "        for i, num in enumerate(x):\n",
    "            if num >= b[j]:\n",
    "                h[i][j] = 1\n",
    "            else:\n",
    "                h[i][j] = 0\n",
    "  \n",
    "    return (h@a)\n",
    "    \n",
    "#Define x vector\n",
    "x = np.linspace(0,1,100)\n",
    "#visualize\n",
    "plt.plot(x,f(x,a,b), x, g(x))\n",
    "\n",
    "        \n",
    "        \n",
    "    "
   ]
  },
  {
   "cell_type": "code",
   "execution_count": 277,
   "id": "4175d0d0",
   "metadata": {},
   "outputs": [
    {
     "name": "stdout",
     "output_type": "stream",
     "text": [
      "0.08239308499528453\n"
     ]
    }
   ],
   "source": [
    "#Quick error calculation to estimate the supremum\n",
    "diff = abs(f(x,a,b)-g(x))\n",
    "print(diff.max())"
   ]
  },
  {
   "cell_type": "code",
   "execution_count": 278,
   "id": "cc098334",
   "metadata": {},
   "outputs": [
    {
     "data": {
      "text/plain": [
       "0.01760691500471548"
      ]
     },
     "execution_count": 278,
     "metadata": {},
     "output_type": "execute_result"
    }
   ],
   "source": [
    "# difference should be positive to show our supremum is less than epsilon. \n",
    "epsilon - diff.max()"
   ]
  },
  {
   "cell_type": "code",
   "execution_count": null,
   "id": "93b8a047",
   "metadata": {},
   "outputs": [],
   "source": []
  }
 ],
 "metadata": {
  "kernelspec": {
   "display_name": "Python 3 (ipykernel)",
   "language": "python",
   "name": "python3"
  },
  "language_info": {
   "codemirror_mode": {
    "name": "ipython",
    "version": 3
   },
   "file_extension": ".py",
   "mimetype": "text/x-python",
   "name": "python",
   "nbconvert_exporter": "python",
   "pygments_lexer": "ipython3",
   "version": "3.9.13"
  }
 },
 "nbformat": 4,
 "nbformat_minor": 5
}
