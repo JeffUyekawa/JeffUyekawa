{
 "cells": [
  {
   "cell_type": "markdown",
   "id": "27164aff",
   "metadata": {},
   "source": [
    "# Function Approximation with ReLU Activation\n",
    "*Note: This project is still a work in progress. \n",
    "\n",
    "In this notebook, we aim to model a two layer neural network using ReLu Activaiton ($\\sigma(x) = max\\{0,x\\}$) to approximate a defined function g(x) with arbitrary precision. This network performs linear interpolation of the defined function.\n",
    "\n",
    "One can vary the value of epsilon, as well as redefine the function g(x). \n",
    "We estimate $\\sup_{x\\in[0,1]}|f(x)-g(x)|$ by finding the max difference on the interval. In this sense, we want to show that this difference is always less than epsilon. Note that this corresponds to a positive result in our final cell. "
   ]
  },
  {
   "cell_type": "markdown",
   "id": "4dc3c8b6",
   "metadata": {},
   "source": [
    "## Proposition Statement\n",
    "Let $g: [0,1] \\rightarrow \\mathbb{R}$ be a continuous function. Then the neural network $f_n=\\sum_{i=0}^{n}na_iReLU(-x+\\frac{i+1}{n})$ converges uniformly to g(x). We define $a_i$ in the following way:\n",
    "$\n",
    "\\begin{bmatrix}\n",
    "a_0\\\\\n",
    "a_1\\\\\n",
    "a_2\\\\\n",
    "...\\\\\n",
    "a_n\n",
    "\\end{bmatrix}\n",
    "$\n",
    "=\n",
    "$\n",
    "\\begin{bmatrix}\n",
    "1 & -2 & 1 & 0 & ... & 0\\\\\n",
    "0 & 1 & -2 & 1 & ... & 0\\\\\n",
    "0 & 0 & 1 & -2 & ... & 0\\\\\n",
    "... &... &... & ... & ... & ...\\\\\n",
    "0 & 0 & 0 & 0 & ... & 1\n",
    "\\end{bmatrix}\n",
    "$\n",
    "$\n",
    "\\begin{bmatrix}\n",
    "g(0)\\\\\n",
    "g(\\frac{1}{n})\\\\\n",
    "g(\\frac{2}{n})\\\\\n",
    "...\\\\\n",
    "g(1)\n",
    "\\end{bmatrix}\n",
    "$\n",
    "\n",
    "$proof.$ Since g(x) is continuous on a compact set, it is uniformly continuous. Then, $\\forall \\epsilon > 0, \\exists  \\delta > 0$ such that $\\forall x,y \\in [0,1]$ with $|x-y|<\\delta, |g(x)-g(y)|<\\epsilon$. Choose N = $\\lceil \\frac{1}{\\delta} \\rceil$ Then $\\forall n \\in \\mathbb{N}$ with n$\\geq$N, we have the following:\n",
    "$\n",
    "\\begin{align}\n",
    "|f_n(x)-g(x)| &= |g(\\frac{k}{n})(k+1-nx) - g(\\frac{k+1}{n})(k-nx) - g(x)|\\\\\n",
    "&= |g(\\frac{k}{n}) - g(x) + (k-nx)(g(\\frac{k}{n})-g(\\frac{k+1}{n}))|\\\\\n",
    "&\\leq |g(\\frac{k}{n}) - g(x)| + |(k-nx)(g(\\frac{k}{n})-g(\\frac{k+1}{n}))|\\\\\n",
    "&< |g(\\frac{k}{n}) - g(x)| + |(g(\\frac{k}{n})-g(\\frac{k+1}{n}))|\\\\\n",
    "&< \\frac{\\epsilon}{2} + \\frac{\\epsilon}{2} = \\epsilon \\\\\n",
    "\\end{align}\n",
    "$\n",
    "$\\\\$\n",
    "We conclude that $f_n$ converges uniformly to g.\n",
    "\n"
   ]
  },
  {
   "cell_type": "code",
   "execution_count": 14,
   "id": "767fe789",
   "metadata": {},
   "outputs": [],
   "source": [
    "import numpy as np\n",
    "import matplotlib.pyplot as plt\n",
    "import scipy"
   ]
  },
  {
   "cell_type": "code",
   "execution_count": 15,
   "id": "7132e949",
   "metadata": {},
   "outputs": [],
   "source": [
    "epsilon = .5 #Chosen with a large value for visualization purposes\n",
    "#Thsese two parameters were chosen based on previous experiment with heaviside activation, but may not be fully accurate here.\n",
    "delta = epsilon/2\n",
    "M = int(np.ceil(1/delta))"
   ]
  },
  {
   "cell_type": "code",
   "execution_count": 16,
   "id": "c9ec0dd7",
   "metadata": {},
   "outputs": [],
   "source": [
    "#Arbitrarily Chosen\n",
    "#Theory states that this program will work for any continuous function on [0,1]\n",
    "def g(x):\n",
    "    return x**2"
   ]
  },
  {
   "cell_type": "code",
   "execution_count": 17,
   "id": "8b703774",
   "metadata": {},
   "outputs": [],
   "source": [
    "#Vector of node biases\n",
    "b = np.linspace(0,1,M)\n",
    "\n",
    "#Calculation of weights a_i\n",
    "diagonals = [[1]*M,[-2]*(M-1),[1]*(M-2)]\n",
    "A = scipy.sparse.diags(diagonals,[0,1,2])\n",
    "\n",
    "a = A@g(b)\n",
    "b1 = b +b[1]"
   ]
  },
  {
   "cell_type": "code",
   "execution_count": 18,
   "id": "675fa54c",
   "metadata": {},
   "outputs": [],
   "source": [
    "\n",
    "def relu(x):\n",
    "    return max(0,x)"
   ]
  },
  {
   "cell_type": "code",
   "execution_count": 19,
   "id": "af5d0da8",
   "metadata": {},
   "outputs": [
    {
     "data": {
      "text/plain": [
       "[<matplotlib.lines.Line2D at 0x2a462c9c670>,\n",
       " <matplotlib.lines.Line2D at 0x2a462c9c6d0>]"
      ]
     },
     "execution_count": 19,
     "metadata": {},
     "output_type": "execute_result"
    },
    {
     "data": {
      "image/png": "[encoded data removed]",
      "text/plain": [
       "<Figure size 640x480 with 1 Axes>"
      ]
     },
     "metadata": {},
     "output_type": "display_data"
    }
   ],
   "source": [
    "#There's likely a more efficient way to do this part. This is what I came up with. \n",
    "def f(x,a,b):\n",
    "    h=np.zeros((len(x),M))\n",
    "    for j in range(len(b)):\n",
    "        for i, num in enumerate(x):\n",
    "            h[i][j] = (M-1)*relu(b[j]-num)\n",
    "  \n",
    "    return (h@a)\n",
    "    \n",
    "#Define x vector\n",
    "x = np.linspace(0,1,100)\n",
    "#visualize\n",
    "plt.plot(x,f(x,a,b1), x, g(x)) "
   ]
  },
  {
   "cell_type": "code",
   "execution_count": 20,
   "id": "c4eb4bf3",
   "metadata": {},
   "outputs": [],
   "source": [
    "error = max(abs(f(x,a,b1)-g(x)))"
   ]
  },
  {
   "cell_type": "code",
   "execution_count": 21,
   "id": "a9dea994",
   "metadata": {},
   "outputs": [
    {
     "name": "stdout",
     "output_type": "stream",
     "text": [
      "0.47224772982348723\n"
     ]
    }
   ],
   "source": [
    "print(epsilon - error)"
   ]
  },
  {
   "cell_type": "markdown",
   "id": "428e2c63",
   "metadata": {},
   "source": [
    "## Generalizing to interval [a,b]"
   ]
  },
  {
   "cell_type": "code",
   "execution_count": 22,
   "id": "52c7e831",
   "metadata": {},
   "outputs": [
    {
     "data": {
      "text/plain": [
       "[<matplotlib.lines.Line2D at 0x2a462d0ad30>,\n",
       " <matplotlib.lines.Line2D at 0x2a462d0ad90>]"
      ]
     },
     "execution_count": 22,
     "metadata": {},
     "output_type": "execute_result"
    },
    {
     "data": {
      "image/png": "[encoded data removed]",
      "text/plain": [
       "<Figure size 640x480 with 1 Axes>"
      ]
     },
     "metadata": {},
     "output_type": "display_data"
    }
   ],
   "source": [
    "a0 = -2\n",
    "b0 = 3\n",
    "M = M*(b0-a0)\n",
    "b2 = np.linspace(a0,b0,M)\n",
    "diagonals = [[1]*M,[-2]*(M-1),[1]*(M-2)]\n",
    "A = scipy.sparse.diags(diagonals,[0,1,2])\n",
    "b = np.linspace(0,1,M)\n",
    "a = A@g(b2)\n",
    "b1 = b + b[1]\n",
    "\n",
    "def f1(x,a,b):\n",
    "    h=np.zeros((len(x),M))\n",
    "    for j in range(len(b)):\n",
    "        for i, num in enumerate(x):\n",
    "            h[i][j] = (M-1)*relu((a0-num)/(b0-a0)+b[j])\n",
    "  \n",
    "    return (h@a)\n",
    "    \n",
    "#Define x vector\n",
    "x = np.linspace(a0,b0,100)\n",
    "#visualize\n",
    "plt.plot(x,f1(x,a,b1), x, g(x)) "
   ]
  },
  {
   "cell_type": "code",
   "execution_count": null,
   "id": "c1304e7f",
   "metadata": {},
   "outputs": [],
   "source": []
  }
 ],
 "metadata": {
  "kernelspec": {
   "display_name": "Python 3 (ipykernel)",
   "language": "python",
   "name": "python3"
  },
  "language_info": {
   "codemirror_mode": {
    "name": "ipython",
    "version": 3
   },
   "file_extension": ".py",
   "mimetype": "text/x-python",
   "name": "python",
   "nbconvert_exporter": "python",
   "pygments_lexer": "ipython3",
   "version": "3.9.13"
  }
 },
 "nbformat": 4,
 "nbformat_minor": 5
}
