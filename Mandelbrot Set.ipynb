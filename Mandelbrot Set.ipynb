{
 "cells": [
  {
   "cell_type": "markdown",
   "id": "5b74ee8f",
   "metadata": {},
   "source": [
    "# The Mandelbrot Set\n",
    "We define the sequence $(z_n)_{n=1}^\\infty\\subseteq\\mathbb{C}$ where $z_0 = 0$, and $z_{n+1} = z_n^2 + c$, for fixed $c \\in \\mathbb{C}$\n",
    "\n",
    "The Mandelbrot set is the set of all $c \\in \\mathbb{C}$ where this sequence does not diverge\n",
    "\n",
    "In this code, we create a matrix representation of the complex plane, and iterate on each inital value using the above sequence definition to find the values of c that belong to the Mandelbrot Set. We finish our work by visualizing the set. "
   ]
  },
  {
   "cell_type": "code",
   "execution_count": 230,
   "id": "51270f33",
   "metadata": {},
   "outputs": [],
   "source": [
    "#Import necessary packages\n",
    "import numpy as np\n",
    "import matplotlib.pyplot as plt"
   ]
  },
  {
   "cell_type": "code",
   "execution_count": 231,
   "id": "0fab6734",
   "metadata": {},
   "outputs": [],
   "source": [
    "#Define sequence rule for iterated map\n",
    "def f(z,c):\n",
    "    return z**2 + c"
   ]
  },
  {
   "cell_type": "code",
   "execution_count": 232,
   "id": "b6de4338",
   "metadata": {},
   "outputs": [],
   "source": [
    "#Create real and imaginary axis boundaries x and y\n",
    "xmin = -2\n",
    "xmax = 1\n",
    "ymin = -1\n",
    "ymax = 1\n",
    "#Deine number of partitions of x, set partitions of y to maintain a proper aspect ratio\n",
    "n = 1000\n",
    "m = int(3/4*n)\n",
    "delta1 = (xmax-xmin)/n\n",
    "delta2 = (ymax-ymin)/m"
   ]
  },
  {
   "cell_type": "code",
   "execution_count": 233,
   "id": "e3a3ca87",
   "metadata": {},
   "outputs": [],
   "source": [
    "#Our matrix of values z0 for each value of c that we will iterate on\n",
    "Z0 = np.zeros((m+1,n+1), dtype = np.complex_)\n",
    "\n",
    "#Create the complex plane of values to set as our inial c\n",
    "Z = Z0\n",
    "x = np.arange(xmin,xmax+delta,delta1)\n",
    "y = np.arange(ymax,ymin-delta2,-delta2)\n",
    "\n",
    "for a, num1 in enumerate(x):\n",
    "    for b, num2 in enumerate(y):\n",
    "        Z[b][a] =  complex(num1,num2)"
   ]
  },
  {
   "cell_type": "code",
   "execution_count": 234,
   "id": "d9b9854f",
   "metadata": {},
   "outputs": [],
   "source": [
    "#Numbers get very large as they diverge. Ignore warnings that would come up\n",
    "import warnings\n",
    "warnings.filterwarnings('ignore')\n",
    "#Iterate 100 times\n",
    "for i in range(100):\n",
    "    Z0 = f(Z0,Z)"
   ]
  },
  {
   "cell_type": "code",
   "execution_count": 235,
   "id": "a1440d8e",
   "metadata": {},
   "outputs": [],
   "source": [
    "#It can be shown that values of c for which |zn| surpasses 2 will eventually diverge\n",
    "M = 2\n",
    "#Create a matrix of values where our sequence hasn't diverged\n",
    "Z1 = np.where(abs(Z0)<M,1,0)"
   ]
  },
  {
   "cell_type": "code",
   "execution_count": 236,
   "id": "4d957d1d",
   "metadata": {},
   "outputs": [
    {
     "data": {
      "text/plain": [
       "<matplotlib.image.AxesImage at 0x1878a2d6730>"
      ]
     },
     "execution_count": 236,
     "metadata": {},
     "output_type": "execute_result"
    },
    {
     "data": {
      "image/png": "[encoded data removed]",
      "text/plain": [
       "<Figure size 639.787x480 with 1 Axes>"
      ]
     },
     "metadata": {},
     "output_type": "display_data"
    }
   ],
   "source": [
    "#Visualize matrix\n",
    "plt.matshow(Z1)"
   ]
  },
  {
   "cell_type": "markdown",
   "id": "cca737d2",
   "metadata": {},
   "source": [
    "## Oh the beauty of mathematics\n",
    "This plot is simply a binary sketch of c values that either did or didn't diverge. In our case the yellow region represents those values of c in the complex plane for which our sequence didn't diverge. This yellow region would be the Mandelbrot set. Pretty!"
   ]
  },
  {
   "cell_type": "code",
   "execution_count": null,
   "id": "47525e16",
   "metadata": {},
   "outputs": [],
   "source": []
  }
 ],
 "metadata": {
  "kernelspec": {
   "display_name": "Python 3 (ipykernel)",
   "language": "python",
   "name": "python3"
  },
  "language_info": {
   "codemirror_mode": {
    "name": "ipython",
    "version": 3
   },
   "file_extension": ".py",
   "mimetype": "text/x-python",
   "name": "python",
   "nbconvert_exporter": "python",
   "pygments_lexer": "ipython3",
   "version": "3.9.13"
  }
 },
 "nbformat": 4,
 "nbformat_minor": 5
}
