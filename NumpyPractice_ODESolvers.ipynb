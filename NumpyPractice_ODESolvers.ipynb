{
 "cells": [
  {
   "cell_type": "markdown",
   "id": "0a1427e9",
   "metadata": {},
   "source": [
    "# Generate numpy arrays\n",
    "questions from https://medium.com/jungletronics/numpy-jupyter-notebook-1182f78ab4e1"
   ]
  },
  {
   "cell_type": "markdown",
   "id": "13427695",
   "metadata": {},
   "source": [
    "1. Creates an array of integers from 10 to 50"
   ]
  },
  {
   "cell_type": "code",
   "execution_count": 281,
   "id": "72190522",
   "metadata": {},
   "outputs": [
    {
     "data": {
      "text/plain": [
       "array([10, 11, 12, 13, 14, 15, 16, 17, 18, 19, 20, 21, 22, 23, 24, 25, 26,\n",
       "       27, 28, 29, 30, 31, 32, 33, 34, 35, 36, 37, 38, 39, 40, 41, 42, 43,\n",
       "       44, 45, 46, 47, 48, 49, 50])"
      ]
     },
     "execution_count": 281,
     "metadata": {},
     "output_type": "execute_result"
    }
   ],
   "source": [
    "import numpy as np\n",
    "my_list = np.arange(10,51)\n",
    "my_list"
   ]
  },
  {
   "cell_type": "markdown",
   "id": "0896f398",
   "metadata": {},
   "source": [
    "2. Create an array of even integers from 10 to 50"
   ]
  },
  {
   "cell_type": "code",
   "execution_count": 282,
   "id": "6c5fbe7a",
   "metadata": {},
   "outputs": [
    {
     "data": {
      "text/plain": [
       "array([10, 12, 14, 16, 18, 20, 22, 24, 26, 28, 30, 32, 34, 36, 38, 40, 42,\n",
       "       44, 46, 48, 50])"
      ]
     },
     "execution_count": 282,
     "metadata": {},
     "output_type": "execute_result"
    }
   ],
   "source": [
    "np.arange(10,51,2)"
   ]
  },
  {
   "cell_type": "markdown",
   "id": "05747597",
   "metadata": {},
   "source": [
    "3. Creates a 3x3 matrix with values being 1,2,3,...,9"
   ]
  },
  {
   "cell_type": "code",
   "execution_count": 283,
   "id": "56be8fba",
   "metadata": {},
   "outputs": [
    {
     "data": {
      "text/plain": [
       "array([[1, 2, 3],\n",
       "       [4, 5, 6],\n",
       "       [7, 8, 9]])"
      ]
     },
     "execution_count": 283,
     "metadata": {},
     "output_type": "execute_result"
    }
   ],
   "source": [
    "np.arange(1,10).reshape(3,3)"
   ]
  },
  {
   "cell_type": "markdown",
   "id": "54a62b07",
   "metadata": {},
   "source": [
    "4. Create an array of 20 linearly spaced points between 0 and 1."
   ]
  },
  {
   "cell_type": "code",
   "execution_count": 284,
   "id": "fef6c845",
   "metadata": {},
   "outputs": [
    {
     "data": {
      "text/plain": [
       "array([0.        , 0.05263158, 0.10526316, 0.15789474, 0.21052632,\n",
       "       0.26315789, 0.31578947, 0.36842105, 0.42105263, 0.47368421,\n",
       "       0.52631579, 0.57894737, 0.63157895, 0.68421053, 0.73684211,\n",
       "       0.78947368, 0.84210526, 0.89473684, 0.94736842, 1.        ])"
      ]
     },
     "execution_count": 284,
     "metadata": {},
     "output_type": "execute_result"
    }
   ],
   "source": [
    "np.linspace(0,1,20)"
   ]
  },
  {
   "cell_type": "markdown",
   "id": "deae8627",
   "metadata": {},
   "source": [
    "5. Use NumPy to generate an array of 25 random numbers sampled from a standard normal distribution."
   ]
  },
  {
   "cell_type": "code",
   "execution_count": 285,
   "id": "a7dbff43",
   "metadata": {},
   "outputs": [
    {
     "data": {
      "text/plain": [
       "array([0.28361775, 0.69642978, 0.21141561, 0.66669554, 0.75055728,\n",
       "       0.47697645, 0.804077  , 0.37718962, 0.47650315, 0.23418454,\n",
       "       0.12511709, 0.1779119 , 0.81229516, 0.5315088 , 0.78175754,\n",
       "       0.4512111 , 0.41093422, 0.80154836, 0.53039174, 0.4173745 ,\n",
       "       0.78400496, 0.23249281, 0.38139799, 0.47422875, 0.11784929])"
      ]
     },
     "execution_count": 285,
     "metadata": {},
     "output_type": "execute_result"
    }
   ],
   "source": [
    "np.random.sample(25)"
   ]
  },
  {
   "cell_type": "markdown",
   "id": "ebe61cf1",
   "metadata": {},
   "source": [
    "6. Create a 10x10 matrix of 100 items spaced evenly at 0.01 steps ranged from 0.01 to 1。"
   ]
  },
  {
   "cell_type": "code",
   "execution_count": 286,
   "id": "41eb96a3",
   "metadata": {},
   "outputs": [
    {
     "data": {
      "text/plain": [
       "array([[0.01, 0.02, 0.03, 0.04, 0.05, 0.06, 0.07, 0.08, 0.09, 0.1 ],\n",
       "       [0.11, 0.12, 0.13, 0.14, 0.15, 0.16, 0.17, 0.18, 0.19, 0.2 ],\n",
       "       [0.21, 0.22, 0.23, 0.24, 0.25, 0.26, 0.27, 0.28, 0.29, 0.3 ],\n",
       "       [0.31, 0.32, 0.33, 0.34, 0.35, 0.36, 0.37, 0.38, 0.39, 0.4 ],\n",
       "       [0.41, 0.42, 0.43, 0.44, 0.45, 0.46, 0.47, 0.48, 0.49, 0.5 ],\n",
       "       [0.51, 0.52, 0.53, 0.54, 0.55, 0.56, 0.57, 0.58, 0.59, 0.6 ],\n",
       "       [0.61, 0.62, 0.63, 0.64, 0.65, 0.66, 0.67, 0.68, 0.69, 0.7 ],\n",
       "       [0.71, 0.72, 0.73, 0.74, 0.75, 0.76, 0.77, 0.78, 0.79, 0.8 ],\n",
       "       [0.81, 0.82, 0.83, 0.84, 0.85, 0.86, 0.87, 0.88, 0.89, 0.9 ],\n",
       "       [0.91, 0.92, 0.93, 0.94, 0.95, 0.96, 0.97, 0.98, 0.99, 1.  ]])"
      ]
     },
     "execution_count": 286,
     "metadata": {},
     "output_type": "execute_result"
    }
   ],
   "source": [
    "np.arange(0.01,1.01,0.01).reshape(10,10)"
   ]
  },
  {
   "cell_type": "markdown",
   "id": "7f383175",
   "metadata": {},
   "source": [
    "# Indexing & slicing"
   ]
  },
  {
   "cell_type": "markdown",
   "id": "afcb77c0",
   "metadata": {},
   "source": [
    "Use this 2-Dimensional Array for this exercises"
   ]
  },
  {
   "cell_type": "code",
   "execution_count": 287,
   "id": "50275fcf",
   "metadata": {},
   "outputs": [
    {
     "name": "stdout",
     "output_type": "stream",
     "text": [
      "[[ 1  2  3  4  5]\n",
      " [ 6  7  8  9 10]\n",
      " [11 12 13 14 15]\n",
      " [16 17 18 19 20]\n",
      " [21 22 23 24 25]]\n"
     ]
    }
   ],
   "source": [
    "import numpy as np\n",
    "arr_2_d = np.arange(1,26).reshape(5,5)\n",
    "print(arr_2_d)"
   ]
  },
  {
   "cell_type": "markdown",
   "id": "2e9559d8",
   "metadata": {},
   "source": [
    "1. Grab the element 20 of the array."
   ]
  },
  {
   "cell_type": "code",
   "execution_count": 288,
   "id": "4bcb09e2",
   "metadata": {},
   "outputs": [
    {
     "data": {
      "text/plain": [
       "20"
      ]
     },
     "execution_count": 288,
     "metadata": {},
     "output_type": "execute_result"
    }
   ],
   "source": [
    "arr_2_d[3][4]"
   ]
  },
  {
   "cell_type": "markdown",
   "id": "497a9877",
   "metadata": {},
   "source": [
    "2. Grab items 2, 7, 12 of the array."
   ]
  },
  {
   "cell_type": "code",
   "execution_count": 289,
   "id": "006c358c",
   "metadata": {},
   "outputs": [
    {
     "data": {
      "text/plain": [
       "array([ 2,  7, 12])"
      ]
     },
     "execution_count": 289,
     "metadata": {},
     "output_type": "execute_result"
    }
   ],
   "source": [
    "arr_2_d[0:3,1]"
   ]
  },
  {
   "cell_type": "markdown",
   "id": "5c3dd007",
   "metadata": {},
   "source": [
    "3. Grab the last row of the array."
   ]
  },
  {
   "cell_type": "code",
   "execution_count": 290,
   "id": "b2fa1ea6",
   "metadata": {},
   "outputs": [
    {
     "data": {
      "text/plain": [
       "array([21, 22, 23, 24, 25])"
      ]
     },
     "execution_count": 290,
     "metadata": {},
     "output_type": "execute_result"
    }
   ],
   "source": [
    "arr_2_d[-1]"
   ]
  },
  {
   "cell_type": "markdown",
   "id": "d1891bb7",
   "metadata": {},
   "source": [
    "4. Get the sum of all the values in the array."
   ]
  },
  {
   "cell_type": "code",
   "execution_count": 291,
   "id": "d0c00373",
   "metadata": {},
   "outputs": [
    {
     "data": {
      "text/plain": [
       "325"
      ]
     },
     "execution_count": 291,
     "metadata": {},
     "output_type": "execute_result"
    }
   ],
   "source": [
    "arr_2_d.sum()"
   ]
  },
  {
   "cell_type": "markdown",
   "id": "9dda73f9",
   "metadata": {},
   "source": [
    "5. Get the column sums of the array"
   ]
  },
  {
   "cell_type": "code",
   "execution_count": 292,
   "id": "f071a8a5",
   "metadata": {},
   "outputs": [
    {
     "data": {
      "text/plain": [
       "array([55, 60, 65, 70, 75])"
      ]
     },
     "execution_count": 292,
     "metadata": {},
     "output_type": "execute_result"
    }
   ],
   "source": [
    "np.sum(arr_2_d, axis = 0)"
   ]
  },
  {
   "cell_type": "markdown",
   "id": "9b8c8828",
   "metadata": {},
   "source": [
    "6. Get the maximum of each row in the array"
   ]
  },
  {
   "cell_type": "code",
   "execution_count": 293,
   "id": "678824ca",
   "metadata": {},
   "outputs": [
    {
     "data": {
      "text/plain": [
       "array([ 5, 10, 15, 20, 25])"
      ]
     },
     "execution_count": 293,
     "metadata": {},
     "output_type": "execute_result"
    }
   ],
   "source": [
    "np.max(arr_2_d, axis = 1)"
   ]
  },
  {
   "cell_type": "markdown",
   "id": "30346ac4",
   "metadata": {},
   "source": [
    "# Conditional selection"
   ]
  },
  {
   "cell_type": "code",
   "execution_count": 294,
   "id": "43607eb0",
   "metadata": {},
   "outputs": [
    {
     "name": "stdout",
     "output_type": "stream",
     "text": [
      "[-0.08694922 -0.78002212 -1.35919527 -1.56769077 -2.32932317 -2.38806215\n",
      " -1.02674054  1.4160105   0.03091787  0.83998452 -0.95281668 -0.32792725\n",
      "  1.16783236  0.58850734 -0.27399407 -1.9561386  -0.50253636  0.15045778\n",
      " -0.10841711 -0.48778069  0.79329723 -0.58545225 -1.20599616  1.08679425\n",
      " -0.75684813]\n"
     ]
    }
   ],
   "source": [
    "# Use this array to test Conditional Selection\n",
    "arr = np.random.randn(25)\n",
    "print(arr)"
   ]
  },
  {
   "cell_type": "markdown",
   "id": "d434168b",
   "metadata": {},
   "source": [
    "Returning the sub array that is in between -0.2 and 0.2."
   ]
  },
  {
   "cell_type": "code",
   "execution_count": 295,
   "id": "9e500f7e",
   "metadata": {},
   "outputs": [
    {
     "data": {
      "text/plain": [
       "array([-0.08694922,  0.03091787,  0.15045778, -0.10841711])"
      ]
     },
     "execution_count": 295,
     "metadata": {},
     "output_type": "execute_result"
    }
   ],
   "source": [
    "arr[(arr>-0.2) & (arr<0.2)]"
   ]
  },
  {
   "cell_type": "markdown",
   "id": "403ae601",
   "metadata": {},
   "source": [
    "# Array math"
   ]
  },
  {
   "cell_type": "markdown",
   "id": "6f66c3c0",
   "metadata": {},
   "source": [
    "1. Generate two $3\\times 3$ random matrices A, B. Compute $A+B$, matrix multiplication $AB$ and $A^{-1}$.  "
   ]
  },
  {
   "cell_type": "code",
   "execution_count": 296,
   "id": "5f96ff6b",
   "metadata": {},
   "outputs": [
    {
     "name": "stdout",
     "output_type": "stream",
     "text": [
      "A =\n",
      " [[49 47 39]\n",
      " [ 5 24  4]\n",
      " [16 32 39]]\n",
      "B =\n",
      " [[22 47  7]\n",
      " [19  0  4]\n",
      " [20 10 47]]\n",
      "A+B =\n",
      " [[71 94 46]\n",
      " [24 24  8]\n",
      " [36 42 86]]\n",
      "AB =\n",
      " [[2751 2693 2364]\n",
      " [ 646  275  319]\n",
      " [1740 1142 2073]]\n",
      "A^-1 =\n",
      " [[ 3.27138751e-02 -2.36851694e-02 -3.02846269e-02]\n",
      " [-5.30385846e-03  5.21073728e-02 -4.04874691e-05]\n",
      " [-9.06919308e-03 -3.30377748e-02  3.80987084e-02]]\n",
      "Testing out the @ operator found through research, this appears to also do matrix multiplication correctly\n",
      "It also appears np.dot is not recommended as it does funky stuff with matrices of differing dimension\n",
      "A@B =\n",
      "[[2751 2693 2364]\n",
      " [ 646  275  319]\n",
      " [1740 1142 2073]]\n"
     ]
    }
   ],
   "source": [
    "A = np.random.randint(0,50,(3,3))\n",
    "B = np.random.randint(0,50,(3,3))\n",
    "\n",
    "C = A + B\n",
    "\n",
    "AB = np.matmul(A,B)\n",
    "Test = A@B\n",
    "\n",
    "A_inv = np.linalg.inv(A)\n",
    "\n",
    "print(f'A =\\n {A}')\n",
    "print(f'B =\\n {B}')\n",
    "print(f'A+B =\\n {C}')\n",
    "print(f'AB =\\n {AB}')\n",
    "print(f'A^-1 =\\n {A_inv}')\n",
    "print('Testing out the @ operator found through research, this appears to also do matrix multiplication correctly')\n",
    "print('It also appears np.dot is not recommended as it does funky stuff with matrices of differing dimension')\n",
    "print(f'A@B =\\n{Test}')"
   ]
  },
  {
   "cell_type": "markdown",
   "id": "7569aafc",
   "metadata": {},
   "source": [
    "2. Compute eigenvalues and eigenvectors of $A$. \n",
    "A refernece for you. https://numpy.org/doc/stable/reference/generated/numpy.linalg.eig.html"
   ]
  },
  {
   "cell_type": "code",
   "execution_count": 297,
   "id": "560c2e69",
   "metadata": {},
   "outputs": [
    {
     "data": {
      "text/plain": [
       "(array([76.5577084+0.j        , 17.7211458+2.92922618j,\n",
       "        17.7211458-2.92922618j]),\n",
       " array([[ 0.87283304+0.j        ,  0.67601151+0.j        ,\n",
       "          0.67601151-0.j        ],\n",
       "        [ 0.11905507+0.j        , -0.10942725-0.35906108j,\n",
       "         -0.10942725+0.35906108j],\n",
       "        [ 0.4732741 +0.j        , -0.41030218+0.48348876j,\n",
       "         -0.41030218-0.48348876j]]))"
      ]
     },
     "execution_count": 297,
     "metadata": {},
     "output_type": "execute_result"
    }
   ],
   "source": [
    "E = np.linalg.eig(A)\n",
    "E"
   ]
  },
  {
   "cell_type": "markdown",
   "id": "8d7eb386",
   "metadata": {},
   "source": [
    "# Functions"
   ]
  },
  {
   "cell_type": "markdown",
   "id": "524c0ee9",
   "metadata": {},
   "source": [
    "1. Define a function with name $h$ that returns that value $h(x)=\\frac{e^{x/2}+e^{-x/2}}{2}$."
   ]
  },
  {
   "cell_type": "code",
   "execution_count": 298,
   "id": "9b11e5ba",
   "metadata": {},
   "outputs": [],
   "source": [
    "def h(x):\n",
    "    return (np.exp(x/2) + np.exp(-x/2))/2"
   ]
  },
  {
   "cell_type": "markdown",
   "id": "b8ac50ed",
   "metadata": {},
   "source": [
    "2. Define a function with name $f$ that calls $h(x)$ in question 1 and returns $f(x)=e^{-x/2}(h(x)+h(2x))$. Compute $f(1)$."
   ]
  },
  {
   "cell_type": "code",
   "execution_count": 299,
   "id": "3a31d608",
   "metadata": {},
   "outputs": [
    {
     "data": {
      "text/plain": [
       "1.61986543601"
      ]
     },
     "execution_count": 299,
     "metadata": {},
     "output_type": "execute_result"
    }
   ],
   "source": [
    "def f(x):\n",
    "    return np.exp(-x/2)*(h(x)+h(2*x))\n",
    "\n",
    "f(1)"
   ]
  },
  {
   "cell_type": "markdown",
   "id": "00fd0adb",
   "metadata": {},
   "source": [
    "3. Define a function with inputs being two $3\\times 3$ random matrices $A, B$, and returns two matrices $A+B$ and matrix multiplication $AB$."
   ]
  },
  {
   "cell_type": "code",
   "execution_count": 300,
   "id": "4893d44d",
   "metadata": {},
   "outputs": [
    {
     "data": {
      "text/plain": [
       "(array([[71, 94, 46],\n",
       "        [24, 24,  8],\n",
       "        [36, 42, 86]]),\n",
       " array([[2751, 2693, 2364],\n",
       "        [ 646,  275,  319],\n",
       "        [1740, 1142, 2073]]))"
      ]
     },
     "execution_count": 300,
     "metadata": {},
     "output_type": "execute_result"
    }
   ],
   "source": [
    "def matrix_math(A,B):\n",
    "    if type(A) == np.ndarray and type(B) == np.ndarray:\n",
    "        if A.shape == (3,3) and B.shape == (3,3):\n",
    "            return A+B , np.matmul(A,B)\n",
    "    else:\n",
    "        return None\n",
    "    \n",
    "matrix_math(A,B) \n"
   ]
  },
  {
   "cell_type": "markdown",
   "id": "763ec262",
   "metadata": {},
   "source": [
    "# Numerical solutions of ODE"
   ]
  },
  {
   "cell_type": "markdown",
   "id": "a5933d20",
   "metadata": {},
   "source": [
    "1. Define a function to find the numerical solution of $x'=x \\cos(t)$, $x(0)=1$ using Euler's method. Use step size 0.01, and find the solution $x(t)$ with $t\\in [0,50]$. Output the solution as a numpy array."
   ]
  },
  {
   "cell_type": "code",
   "execution_count": 301,
   "id": "55b05a2d",
   "metadata": {},
   "outputs": [],
   "source": [
    "def Euler(f,t,c):\n",
    "    solution = np.zeros((len(c),len(t)))\n",
    "    h = (t[-1]-t[0])/len(t)\n",
    "    solution[:,0] = c\n",
    "    for i in range(1,len(t)):\n",
    "        k = f(t[i-1],solution[:,i-1]) \n",
    "        solution[:,i] = solution[:,i-1] + (h+np.zeros(len(c)))*k\n",
    "    \n",
    "    return solution[0]"
   ]
  },
  {
   "cell_type": "code",
   "execution_count": 302,
   "id": "a5d1e72d",
   "metadata": {},
   "outputs": [
    {
     "name": "stdout",
     "output_type": "stream",
     "text": [
      "[1.         1.009998   1.02009546 ... 0.66657679 0.67297149 0.67944616]\n"
     ]
    }
   ],
   "source": [
    "def f(t,x):\n",
    "    return x*np.cos(t)\n",
    "t = np.arange(0,50.01,0.01)\n",
    "x_0 = [1]\n",
    "\n",
    "euler_solution = Euler(f,t,x_0)\n",
    "print(euler_solution)"
   ]
  },
  {
   "cell_type": "code",
   "execution_count": 303,
   "id": "38ce3abf",
   "metadata": {},
   "outputs": [
    {
     "name": "stdout",
     "output_type": "stream",
     "text": [
      "True solution: 0.7692226237074062\n",
      "Error: 0.08977646827668129\n"
     ]
    }
   ],
   "source": [
    "#Compare to actual solution e^(sin(t))\n",
    "sol = np.exp(np.sin(50))\n",
    "print(f'True solution: {sol}')\n",
    "print(f'Error: {abs(sol - euler_solution[-1])}')\n",
    " "
   ]
  },
  {
   "cell_type": "markdown",
   "id": "dc87054d",
   "metadata": {},
   "source": [
    "2. Define a function to find the numerical solution of $x''+x=0$, $x(0)=3$, $x'(0)=0$ using Euler's method. Use step size 0.01, and find the solution $x(t)$ with $t\\in [0,50]$.  Output the solution as a numpy array."
   ]
  },
  {
   "cell_type": "code",
   "execution_count": 304,
   "id": "12f7bac2",
   "metadata": {},
   "outputs": [
    {
     "name": "stdout",
     "output_type": "stream",
     "text": [
      "[3.         3.         2.99970012 ... 3.68248584 3.69375961 3.70466528]\n",
      "True solution: 2.89489808547634\n",
      "Error: 0.8097671944998663\n"
     ]
    }
   ],
   "source": [
    "# x' = z\n",
    "# z' = -x  so f(x,z) = (x,z)' = (z,-x)\n",
    "def g(t,x):\n",
    "    return [x[1],-x[0]]\n",
    "x_0 = [3,0]\n",
    "\n",
    "euler_solution_2 = Euler(g,t,x_0)\n",
    "\n",
    "print(euler_solution_2)\n",
    "#Compare to actual solution 3cos(t)\n",
    "sol = 3*np.cos(50)\n",
    "print(f'True solution: {sol}')\n",
    "print(f'Error: {abs(sol - euler_solution_2[-1])}')"
   ]
  },
  {
   "cell_type": "markdown",
   "id": "06feba8b",
   "metadata": {},
   "source": [
    "##  Just for fun, let's try to code up a Runge-Kutta solver to redo these problems"
   ]
  },
  {
   "cell_type": "code",
   "execution_count": 305,
   "id": "110fcb85",
   "metadata": {},
   "outputs": [],
   "source": [
    "def RK(f,t,c):\n",
    "    solution = np.zeros((len(c),len(t)))\n",
    "    h = (t[-1]-t[0])/len(t)\n",
    "    solution[:,0] = c\n",
    "    for i in range(1,len(t)):\n",
    "        k1 = f(t[i-1],solution[:,i-1]) \n",
    "        k2 = f(t[i-1] + h/2, solution[:,i-1] + (h + np.zeros(len(c)))*(k1)/2)\n",
    "        k3 = f(t[i-1] + h/2, solution[:,i-1] + (h + np.zeros(len(c)))*(k2)/2)\n",
    "        k4 = f(t[i-1] + h, solution[:,i-1] + (h + np.zeros(len(c)))*(k3))\n",
    "        solution[:,i] = solution[:,i-1] + (1/6 + np.zeros(len(c)))*(k1 + (2+np.zeros(len(c)))*k2 + (2+np.zeros(len(c)))*k3 + k4)*(h + np.zeros(len(c)))\n",
    "    \n",
    "    return solution[0]"
   ]
  },
  {
   "cell_type": "code",
   "execution_count": 306,
   "id": "697151eb",
   "metadata": {},
   "outputs": [
    {
     "name": "stdout",
     "output_type": "stream",
     "text": [
      "[1.         1.01004798 1.0201959  ... 0.75460257 0.76188717 0.76926301]\n",
      "True solution: 0.7692226237074062\n",
      "Error: 4.038453735355496e-05\n"
     ]
    }
   ],
   "source": [
    "#Problem 1\n",
    "def f(t,x):\n",
    "    return x*np.cos(t)\n",
    "t = np.arange(0,50.01,0.01)\n",
    "x_0 = [1]\n",
    "\n",
    "test_solution = RK(f,t,x_0)\n",
    "print(test_solution)\n",
    "#Compare to actual solution e^(sin(t))\n",
    "sol = np.exp(np.sin(50))\n",
    "print(f'True solution: {sol}')\n",
    "print(f'Error: {abs(sol - test_solution[-1])}')"
   ]
  },
  {
   "cell_type": "code",
   "execution_count": 307,
   "id": "47e0b10a",
   "metadata": {},
   "outputs": [
    {
     "name": "stdout",
     "output_type": "stream",
     "text": [
      "True solution: 2.89489808547634\n",
      "Error: 0.008014229883858803\n"
     ]
    }
   ],
   "source": [
    "#Problem 2\n",
    "def g(t,x):\n",
    "    return [x[1], -x[0]]\n",
    "x_0 = [3,0]\n",
    "\n",
    "test_solution_2 = RK(g,t,x_0)\n",
    "\n",
    "test_solution_2\n",
    "\n",
    "#Compare to actual solution 3cos(t)\n",
    "sol = 3*np.cos(50)\n",
    "print(f'True solution: {sol}')\n",
    "print(f'Error: {abs(sol - test_solution_2[-1])}')"
   ]
  },
  {
   "cell_type": "code",
   "execution_count": null,
   "id": "3ba848d4",
   "metadata": {},
   "outputs": [],
   "source": []
  }
 ],
 "metadata": {
  "kernelspec": {
   "display_name": "Python 3 (ipykernel)",
   "language": "python",
   "name": "python3"
  },
  "language_info": {
   "codemirror_mode": {
    "name": "ipython",
    "version": 3
   },
   "file_extension": ".py",
   "mimetype": "text/x-python",
   "name": "python",
   "nbconvert_exporter": "python",
   "pygments_lexer": "ipython3",
   "version": "3.9.13"
  }
 },
 "nbformat": 4,
 "nbformat_minor": 5
}
