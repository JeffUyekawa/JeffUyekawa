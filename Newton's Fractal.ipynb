{
 "cells": [
  {
   "cell_type": "markdown",
   "id": "ea7bb88d",
   "metadata": {},
   "source": [
    "# The Newton Fractal\n",
    "\n",
    "This program creates an image of \"the Newton Fractal\". We use Newton's Method to find solutions to $z^3-1=0$ in the complex plane, and assign our initial guess based on which of the three known solutions it converges to. "
   ]
  },
  {
   "cell_type": "code",
   "execution_count": 158,
   "id": "0f93d9bb",
   "metadata": {},
   "outputs": [],
   "source": [
    "#Import necessary packages\n",
    "import numpy as np\n",
    "import matplotlib.pyplot as plt"
   ]
  },
  {
   "cell_type": "code",
   "execution_count": 159,
   "id": "7cb2a107",
   "metadata": {},
   "outputs": [],
   "source": [
    "def f(z):\n",
    "    return z**3-1"
   ]
  },
  {
   "cell_type": "code",
   "execution_count": 160,
   "id": "2c7ef212",
   "metadata": {},
   "outputs": [],
   "source": [
    "def f1(z):\n",
    "    return 3*z**2"
   ]
  },
  {
   "cell_type": "code",
   "execution_count": 161,
   "id": "33d24f0e",
   "metadata": {},
   "outputs": [],
   "source": [
    "#Define a function for Newton's Method\n",
    "def G(z):\n",
    "    return z - f(z)/f1(z)"
   ]
  },
  {
   "cell_type": "code",
   "execution_count": 162,
   "id": "60eefe7a",
   "metadata": {},
   "outputs": [],
   "source": [
    "#Set Parameters\n",
    "xmin = -2\n",
    "xmax = 2\n",
    "n = 1000\n",
    "delta = (xmax-xmin)/n"
   ]
  },
  {
   "cell_type": "code",
   "execution_count": 163,
   "id": "aa9a2067",
   "metadata": {},
   "outputs": [],
   "source": [
    "#Build the discretized complex plane\n",
    "Z = np.zeros((n+1,n+1), dtype = np.complex_)\n",
    "\n",
    "x = np.arange(xmin,xmax+delta,delta)\n",
    "y = x[::-1]\n",
    "\n",
    "\n",
    "for a, num1 in enumerate(x):\n",
    "    for b, num2 in enumerate(y):\n",
    "        Z[b][a] =  complex(num1,num2)\n",
    "       "
   ]
  },
  {
   "cell_type": "code",
   "execution_count": 164,
   "id": "7794777e",
   "metadata": {},
   "outputs": [],
   "source": [
    "#perform 50 iterations of Newton's Method\n",
    "for i in range(50):\n",
    "    Z = G(Z)"
   ]
  },
  {
   "cell_type": "code",
   "execution_count": 165,
   "id": "7e5bd325",
   "metadata": {},
   "outputs": [],
   "source": [
    "#Define known roots of z^3 - 1 = 0\n",
    "r1 = complex(1,0)\n",
    "r2 = complex(-1/2,np.sqrt(3)/2)\n",
    "r3 = complex(-1/2,-np.sqrt(3)/2)"
   ]
  },
  {
   "cell_type": "code",
   "execution_count": 166,
   "id": "61c485cf",
   "metadata": {},
   "outputs": [],
   "source": [
    "#Create matrices with value of 1 where within epsilon of root, 0 otherwise\n",
    "epsilon = 0.0001\n",
    "\n",
    "Z1 = np.where(abs(Z-r1)<epsilon,1,0)\n",
    "Z2 = np.where(abs(Z-r2)<epsilon,1,0)\n",
    "Z3 = np.where(abs(Z - r3)<epsilon,1,0)\n",
    "Z4 = np.where(Z1+Z2+Z3 == 0,1,0)"
   ]
  },
  {
   "cell_type": "code",
   "execution_count": 167,
   "id": "c29bb2c3",
   "metadata": {},
   "outputs": [],
   "source": [
    "#Weighted sum of matrices above\n",
    "Z = .5*Z1 + 2*Z2 + 3*Z3 + 4*Z4\n"
   ]
  },
  {
   "cell_type": "code",
   "execution_count": 168,
   "id": "a3650e73",
   "metadata": {},
   "outputs": [
    {
     "data": {
      "text/plain": [
       "<matplotlib.image.AxesImage at 0x296c162bd90>"
      ]
     },
     "execution_count": 168,
     "metadata": {},
     "output_type": "execute_result"
    },
    {
     "data": {
      "image/png": "[encoded data removed]",
      "text/plain": [
       "<Figure size 480x480 with 1 Axes>"
      ]
     },
     "metadata": {},
     "output_type": "display_data"
    }
   ],
   "source": [
    "#Color map of matrix values, known as Newton's Fractal\n",
    "plt.matshow(Z, cmap = 'hot')"
   ]
  },
  {
   "cell_type": "code",
   "execution_count": null,
   "id": "733efea7",
   "metadata": {},
   "outputs": [],
   "source": []
  }
 ],
 "metadata": {
  "kernelspec": {
   "display_name": "Python 3 (ipykernel)",
   "language": "python",
   "name": "python3"
  },
  "language_info": {
   "codemirror_mode": {
    "name": "ipython",
    "version": 3
   },
   "file_extension": ".py",
   "mimetype": "text/x-python",
   "name": "python",
   "nbconvert_exporter": "python",
   "pygments_lexer": "ipython3",
   "version": "3.9.13"
  }
 },
 "nbformat": 4,
 "nbformat_minor": 5
}
